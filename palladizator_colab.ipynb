{
  "cells": [
    {
      "cell_type": "markdown",
      "metadata": {
        "id": "view-in-github",
        "colab_type": "text"
      },
      "source": [
        "<a href=\"https://colab.research.google.com/github/liminovna/palladizator/blob/colab-refactored/palladizator_colab.ipynb\" target=\"_parent\"><img src=\"https://colab.research.google.com/assets/colab-badge.svg\" alt=\"Open In Colab\"/></a>"
      ]
    },
    {
      "cell_type": "markdown",
      "metadata": {
        "id": "DU27VM8NDsvE"
      },
      "source": [
        "Добро пожаловать в \"Палладизатор\"! \n",
        "\n",
        "С помощью этой простенькой программы вы можете транскрибировать текст с китайского языка на русский.\n",
        "\n",
        "Для этого достаточно сделать несколько простых шагов:"
      ]
    },
    {
      "cell_type": "markdown",
      "metadata": {
        "id": "jBeQisDf5MEQ"
      },
      "source": [
        "1. Первым делом нужно установить необходимые компоненты, нажав на кнопку ▶ в ячейке ниже. Этот шаг нужно выполнить всего один раз."
      ]
    },
    {
      "cell_type": "code",
      "source": [
        "%cd ../\n",
        "\n",
        "!rm -r palladizator"
      ],
      "metadata": {
        "colab": {
          "base_uri": "https://localhost:8080/"
        },
        "id": "AbeURB1qCRiB",
        "outputId": "44b9b562-5b09-4d35-fa5d-77db916a1fa0"
      },
      "execution_count": 3,
      "outputs": [
        {
          "output_type": "stream",
          "name": "stdout",
          "text": [
            "/content\n"
          ]
        }
      ]
    },
    {
      "cell_type": "code",
      "execution_count": 4,
      "metadata": {
        "id": "cLtrP-R-E_ac",
        "colab": {
          "base_uri": "https://localhost:8080/"
        },
        "outputId": "48f6e5ac-b8ab-4bac-e840-dc35cdeed4fb"
      },
      "outputs": [
        {
          "output_type": "stream",
          "name": "stdout",
          "text": [
            "Cloning into 'palladizator'...\n",
            "remote: Enumerating objects: 120, done.\u001b[K\n",
            "remote: Counting objects: 100% (120/120), done.\u001b[K\n",
            "remote: Compressing objects: 100% (113/113), done.\u001b[K\n",
            "remote: Total 120 (delta 46), reused 8 (delta 3), pack-reused 0\u001b[K\n",
            "Receiving objects: 100% (120/120), 34.31 KiB | 605.00 KiB/s, done.\n",
            "Resolving deltas: 100% (46/46), done.\n",
            "/content/palladizator\n",
            "Requirement already satisfied: pkuseg in /usr/local/lib/python3.7/dist-packages (from -r requirements.txt (line 1)) (0.0.25)\n",
            "Requirement already satisfied: sklearn_crfsuite in /usr/local/lib/python3.7/dist-packages (from -r requirements.txt (line 2)) (0.3.6)\n",
            "Requirement already satisfied: g2pc in /usr/local/lib/python3.7/dist-packages (from -r requirements.txt (line 3)) (0.9.9.3)\n",
            "Requirement already satisfied: numpy>=1.16.0 in /usr/local/lib/python3.7/dist-packages (from pkuseg->-r requirements.txt (line 1)) (1.19.5)\n",
            "Requirement already satisfied: cython in /usr/local/lib/python3.7/dist-packages (from pkuseg->-r requirements.txt (line 1)) (0.29.27)\n",
            "Requirement already satisfied: tabulate in /usr/local/lib/python3.7/dist-packages (from sklearn_crfsuite->-r requirements.txt (line 2)) (0.8.9)\n",
            "Requirement already satisfied: tqdm>=2.0 in /usr/local/lib/python3.7/dist-packages (from sklearn_crfsuite->-r requirements.txt (line 2)) (4.62.3)\n",
            "Requirement already satisfied: python-crfsuite>=0.8.3 in /usr/local/lib/python3.7/dist-packages (from sklearn_crfsuite->-r requirements.txt (line 2)) (0.9.7)\n",
            "Requirement already satisfied: six in /usr/local/lib/python3.7/dist-packages (from sklearn_crfsuite->-r requirements.txt (line 2)) (1.15.0)\n"
          ]
        }
      ],
      "source": [
        "!git clone -b colab-refactored https://github.com/liminovna/palladizator.git palladizator\n",
        "\n",
        "%cd palladizator\n",
        "\n",
        "!pip install -r requirements.txt"
      ]
    },
    {
      "cell_type": "markdown",
      "metadata": {
        "id": "r1bBty4y6icH"
      },
      "source": [
        "2. Нажимаем ▶, чтобы импортировать библиотеки и сделать другие важные штуки. Это также достаточно сделать всего один раз."
      ]
    },
    {
      "cell_type": "code",
      "execution_count": 13,
      "metadata": {
        "cellView": "form",
        "id": "P31IcnU5Uo1C"
      },
      "outputs": [],
      "source": [
        "import palladius_colab"
      ]
    },
    {
      "cell_type": "markdown",
      "metadata": {
        "id": "rBCdX_ob7WU_"
      },
      "source": [
        "3. Готово! Теперь вы можете вставить текст, который нужно транскрибировать, и выбрать опцию cpitalize, если хотите, чтобы каждое слово начиналось с большой буквы!\n",
        "\n",
        "Например, при включенной опции результат для фразы \"国家语委现代汉语平衡语料库\" будет \"Гоцзя Юй Вэй Сяньдай Ханьюй Пинхэн Юйляоку\", а при выключенной - \"гоцзя юй вэй сяньдай ханьюй пинхэн юйляоку\"."
      ]
    },
    {
      "cell_type": "code",
      "execution_count": 11,
      "metadata": {
        "id": "r4v70jH_HpOO",
        "colab": {
          "base_uri": "https://localhost:8080/"
        },
        "outputId": "99281c97-3ca5-469f-c90e-1dccf3c33e70"
      },
      "outputs": [
        {
          "output_type": "stream",
          "name": "stderr",
          "text": [
            "Downloading: \"https://github.com/lancopku/pkuseg-python/releases/download/v0.0.16/postag.zip\" to /root/.pkuseg/postag.zip\n",
            "100%|██████████| 41424981/41424981 [00:01<00:00, 40489447.17it/s]\n"
          ]
        },
        {
          "output_type": "stream",
          "name": "stdout",
          "text": [
            "\n"
          ]
        }
      ],
      "source": [
        "phrase = '' #@param {type:\"string\"}\n",
        "capitalize = True #@param {type:\"boolean\"}\n",
        "\n",
        "s = pc.zh_phrase(phrase, capitalize)\n",
        "\n",
        "print(s.get_ru_text())"
      ]
    },
    {
      "cell_type": "markdown",
      "metadata": {
        "id": "jO0-dHnc7-SG"
      },
      "source": [
        "Спасибо, что воспользовались \"Палладизатором\"!\n",
        "\n",
        "При возникновении трудностей пишите на vladaliminska @ gmail.com"
      ]
    }
  ],
  "metadata": {
    "colab": {
      "name": "palladizator_colab.ipynb",
      "provenance": [],
      "include_colab_link": true
    },
    "kernelspec": {
      "display_name": "Python 3.7.6 64-bit",
      "name": "python376jvsc74a57bd0165a40c090b642c800452c5ca2ddb639cec32198438996b095f6d3b0056ac762"
    },
    "language_info": {
      "name": "python",
      "version": ""
    },
    "metadata": {
      "interpreter": {
        "hash": "165a40c090b642c800452c5ca2ddb639cec32198438996b095f6d3b0056ac762"
      }
    }
  },
  "nbformat": 4,
  "nbformat_minor": 0
}