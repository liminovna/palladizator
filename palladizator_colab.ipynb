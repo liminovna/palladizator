{
  "nbformat": 4,
  "nbformat_minor": 0,
  "metadata": {
    "colab": {
      "name": "palladizator.ipynb",
      "provenance": [],
      "authorship_tag": "ABX9TyNkahRvHsEu4LcDp35HRSg6",
      "include_colab_link": true
    },
    "kernelspec": {
      "name": "python3",
      "display_name": "Python 3"
    },
    "language_info": {
      "name": "python"
    }
  },
  "cells": [
    {
      "cell_type": "markdown",
      "metadata": {
        "id": "view-in-github",
        "colab_type": "text"
      },
      "source": [
        "<a href=\"https://colab.research.google.com/github/liminovna/palladizator/blob/colab_version/palladizator_colab.ipynb\" target=\"_parent\"><img src=\"https://colab.research.google.com/assets/colab-badge.svg\" alt=\"Open In Colab\"/></a>"
      ]
    },
    {
      "cell_type": "markdown",
      "source": [
        "Добро пожаловать в палладизатор! \n",
        "\n",
        "С помощью этой простенькой программы вы можете транскрибировать текст с китайского языка на русский.\n",
        "\n",
        "Для этого достаточно сделать несколько простых шагов:\n",
        "\n",
        "1. импортировать необходимые библиотеки нажав на кнопку ▶ в ячейке ниже, а затем в ячейке после нее\n",
        "2. ввести фразу на китайском в графе phrase и отметить пункт capitalize, если необходимо начинать каждое слово с большой буквы*\n",
        "3. нажать на кнопку ▶ в последней строке\n",
        "\n",
        "\\*Например, при включенной опции результат для фразы \"国家语委现代汉语平衡语料库\" будет \"*Гоцзя Юй Вэй Сяньдай Ханьюй Пинхэн Юйляоку*\", а при выключенной - \"*гоцзя юй вэй сяньдай ханьюй пинхэн юйляоку*\"."
      ],
      "metadata": {
        "id": "DU27VM8NDsvE"
      }
    },
    {
      "cell_type": "code",
      "source": [
        "!git clone -b colab_version https://github.com/liminovna/palladizator.git palladizator\n",
        "\n",
        "%cd palladizator\n",
        "\n",
        "!pip install -r requirements.txt"
      ],
      "metadata": {
        "id": "cLtrP-R-E_ac"
      },
      "execution_count": null,
      "outputs": []
    },
    {
      "cell_type": "code",
      "source": [
        "#@title\n",
        "from g2pc import G2pC\n",
        "import re\n",
        "import syllable_dict\n",
        "\n",
        "class zh_phrase:\n",
        "\n",
        "    is_zh_word = re.compile('([a-z]+)([0-9]+)')\n",
        "\n",
        "    def __init__(self, phrase, if_capitalize) -> None:\n",
        "        \n",
        "        self.capitalize = if_capitalize\n",
        "        self.phrase = phrase\n",
        "\n",
        "        self.pinyin_list = self.get_pinyin_list()\n",
        "\n",
        "    def get_pinyin_list(self) -> list:\n",
        "        g2p = G2pC()\n",
        "        return [i[2] for i in g2p(self.phrase.strip())]\n",
        "\n",
        "    def remove_tones(self) -> list:\n",
        "        \n",
        "        dropped_tones = []\n",
        "\n",
        "        def helper(segment):\n",
        "            reg_query = re.search(self.is_zh_word, segment)\n",
        "\n",
        "            if reg_query is not None:\n",
        "                segment = segment[:reg_query.start()] + segment[reg_query.start():reg_query.end()-1] + segment[reg_query.end():]\n",
        "                helper(segment)\n",
        "            else:\n",
        "                dropped_tones.append(segment)\n",
        "\n",
        "        for i in range(len(self.pinyin_list)):\n",
        "            helper(self.pinyin_list[i])\n",
        "\n",
        "        return dropped_tones\n",
        "\n",
        "    def get_ru_list(self) -> list:\n",
        "\n",
        "        palladiused = []\n",
        "            \n",
        "        for i in range(len(self.pinyin_list)):\n",
        "            seg = self.pinyin_list[i]\n",
        "\n",
        "            new_seg = ''\n",
        "            if re.match('[a-z]+', seg) is not None:\n",
        "                for j in re.findall('[a-z]+', seg):\n",
        "                    seg = j\n",
        "\n",
        "                    if seg[:2] not in ('zh','sh','ch'):\n",
        "                        first_letter = seg[0]\n",
        "                        cur_dict = eval('syllable_dict.'+first_letter)\n",
        "                    else:\n",
        "                        first_letters = seg[:2]\n",
        "                        cur_dict = eval('syllable_dict.'+first_letters)\n",
        "                    \n",
        "                    new_seg += cur_dict[seg]\n",
        "                # palladiused.append(new_seg + ' ')\n",
        "                palladiused.append(new_seg)\n",
        "\n",
        "            else:\n",
        "                palladiused.append(seg)\n",
        "\n",
        "        return palladiused\n",
        "\n",
        "    def get_ru_text(self) -> str:\n",
        "\n",
        "        ru_list = self.get_ru_list()\n",
        "        # extra_spaces = re.compile('( [，。？！》”）])|([《“（] )')\n",
        "\n",
        "        if self.capitalize:\n",
        "            # ru_list = list(map(lambda word: ' ' + word[0].upper()+word[1:], ru_list))\n",
        "            ru_list = list(map(lambda word: word[0].upper()+word[1:], ru_list))\n",
        "\n",
        "        \n",
        "        punct = ''.maketrans(\n",
        "        {'，': ',', '。': '.', '？': '?', '、': ',', '！': '!', '：': ':', '；': ';', '（': '(', '）': ')', '“': '\"',\n",
        "        '”': '\"', '-': '-', '《': '«', '》': '»'}) # this line has been adapted from https://github.com/pantherka\n",
        "        \n",
        "        # ru_string = ''.join(ru_list).strip().translate(punct).replace('  ', ' ')\n",
        "        ru_string = ' '.join(ru_list).translate(punct).strip()\n",
        "        return ru_string"
      ],
      "metadata": {
        "cellView": "form",
        "id": "P31IcnU5Uo1C"
      },
      "execution_count": null,
      "outputs": []
    },
    {
      "cell_type": "code",
      "source": [
        "phrase = '\\u6C49\\u8BED\\u897F\\u91CC\\u5C14\\u5B57\\u6BCD\\u8F6C\\u5199\\u7CFB\\u7EDF' #@param {type:\"string\"}\n",
        "capitalize = True #@param {type:\"boolean\"}\n",
        "\n",
        "s = zh_phrase(phrase, capitalize)\n",
        "\n",
        "print(s.get_ru_text())"
      ],
      "metadata": {
        "id": "r4v70jH_HpOO",
        "colab": {
          "base_uri": "https://localhost:8080/"
        },
        "cellView": "form",
        "outputId": "2c9533d0-55f2-4518-d742-b9f71451f2ae"
      },
      "execution_count": 72,
      "outputs": [
        {
          "output_type": "stream",
          "name": "stdout",
          "text": [
            "Ханьюй Силиэр Цзыму Чжуаньсе Ситун\n"
          ]
        }
      ]
    }
  ]
}