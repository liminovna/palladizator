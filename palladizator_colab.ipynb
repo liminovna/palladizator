{
  "cells": [
    {
      "cell_type": "markdown",
      "metadata": {
        "colab_type": "text",
        "id": "view-in-github"
      },
      "source": [
        "<a href=\"https://colab.research.google.com/github/liminovna/palladizator/blob/colab_version/palladizator_colab.ipynb\" target=\"_parent\"><img src=\"https://colab.research.google.com/assets/colab-badge.svg\" alt=\"Open In Colab\"/></a>"
      ]
    },
    {
      "cell_type": "markdown",
      "metadata": {
        "id": "DU27VM8NDsvE"
      },
      "source": [
        "Добро пожаловать в \"Палладизатор\"! \n",
        "\n",
        "С помощью этой простенькой программы вы можете транскрибировать текст с китайского языка на русский.\n",
        "\n",
        "Для этого достаточно сделать несколько простых шагов:"
      ]
    },
    {
      "cell_type": "markdown",
      "metadata": {
        "id": "jBeQisDf5MEQ"
      },
      "source": [
        "1. Первым делом нужно установить необходимые компоненты, нажав на кнопку ▶ в ячейке ниже. Этот шаг нужно выполнить всего один раз."
      ]
    },
    {
      "cell_type": "code",
      "execution_count": null,
      "metadata": {
        "id": "cLtrP-R-E_ac"
      },
      "outputs": [],
      "source": [
        "!git clone -b colab_version https://github.com/liminovna/palladizator.git palladizator\n",
        "\n",
        "%cd palladizator\n",
        "\n",
        "!pip install -r requirements.txt"
      ]
    },
    {
      "cell_type": "markdown",
      "metadata": {
        "id": "r1bBty4y6icH"
      },
      "source": [
        "2. Нажимаем ▶, чтобы импортировать библиотеки и сделать другие важные штуки. Это также достаточно сделать всего один раз."
      ]
    },
    {
      "cell_type": "code",
      "execution_count": null,
      "metadata": {
        "cellView": "form",
        "id": "P31IcnU5Uo1C"
      },
      "outputs": [],
      "source": [
        "from palladius_colab import zh_phrase"
      ]
    },
    {
      "cell_type": "markdown",
      "metadata": {
        "id": "rBCdX_ob7WU_"
      },
      "source": [
        "3. Готово! Теперь вы можете вставить текст, который нужно транскрибировать, и выбрать опцию cpitalize, если хотите, чтобы каждое слово начиналось с большой буквы!\n",
        "\n",
        "Например, при включенной опции результат для фразы \"国家语委现代汉语平衡语料库\" будет \"Гоцзя Юй Вэй Сяньдай Ханьюй Пинхэн Юйляоку\", а при выключенной - \"гоцзя юй вэй сяньдай ханьюй пинхэн юйляоку\"."
      ]
    },
    {
      "cell_type": "code",
      "execution_count": null,
      "metadata": {
        "cellView": "form",
        "id": "r4v70jH_HpOO"
      },
      "outputs": [],
      "source": [
        "phrase = '' #@param {type:\"string\"}\n",
        "capitalize = True #@param {type:\"boolean\"}\n",
        "\n",
        "s = zh_phrase(phrase, capitalize)\n",
        "\n",
        "print(s.get_ru_text())"
      ]
    },
    {
      "cell_type": "markdown",
      "metadata": {
        "id": "jO0-dHnc7-SG"
      },
      "source": [
        "Спасибо, что воспользовались \"Палладизатором\"!\n",
        "\n",
        "При возникновении трудностей пишите на vladaliminska @ gmail.com"
      ]
    }
  ],
  "metadata": {
    "colab": {
      "authorship_tag": "ABX9TyO7ywg0w1sBLj3H+UZ5wgeK",
      "include_colab_link": true,
      "name": "palladizator.ipynb",
      "provenance": []
    },
    "kernelspec": {
      "display_name": "Python 3.7.6 64-bit",
      "name": "python376jvsc74a57bd0165a40c090b642c800452c5ca2ddb639cec32198438996b095f6d3b0056ac762"
    },
    "language_info": {
      "name": "python",
      "version": ""
    },
    "metadata": {
      "interpreter": {
        "hash": "165a40c090b642c800452c5ca2ddb639cec32198438996b095f6d3b0056ac762"
      }
    }
  },
  "nbformat": 4,
  "nbformat_minor": 0
}